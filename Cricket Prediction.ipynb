{
 "cells": [
  {
   "cell_type": "markdown",
   "metadata": {},
   "source": [
    "# Cricket Prediction using machine learning"
   ]
  },
  {
   "cell_type": "markdown",
   "metadata": {},
   "source": [
    "## Data Preprocessing"
   ]
  },
  {
   "cell_type": "code",
   "execution_count": 1,
   "metadata": {},
   "outputs": [],
   "source": [
    "import pandas as pd"
   ]
  },
  {
   "cell_type": "code",
   "execution_count": 2,
   "metadata": {},
   "outputs": [],
   "source": [
    "dataset=pd.read_csv('ipl.csv',index_col=0)"
   ]
  },
  {
   "cell_type": "code",
   "execution_count": 3,
   "metadata": {},
   "outputs": [],
   "source": [
    "dataset = dataset.drop(columns=['gender', 'match_type','date','umpire_1','umpire_2','player of the match','win_by_runs','win_by_wickets'])"
   ]
  },
  {
   "cell_type": "code",
   "execution_count": 4,
   "metadata": {},
   "outputs": [
    {
     "data": {
      "text/plain": [
       "Index(['city'], dtype='object')"
      ]
     },
     "execution_count": 4,
     "metadata": {},
     "output_type": "execute_result"
    }
   ],
   "source": [
    "# columns with missing values\n",
    "dataset.columns[dataset.isnull().any()]"
   ]
  },
  {
   "cell_type": "code",
   "execution_count": 5,
   "metadata": {},
   "outputs": [],
   "source": [
    "# replace missing column with mode value\n",
    "dataset['city'].fillna(dataset['city'].mode()[0], inplace=True)"
   ]
  },
  {
   "cell_type": "code",
   "execution_count": 6,
   "metadata": {},
   "outputs": [],
   "source": [
    "dataset.columns[dataset.isnull().any()]\n",
    "\n",
    "dataset.replace(['Mumbai Indians','Kolkata Knight Riders','Royal Challengers Bangalore','Deccan Chargers','Chennai Super Kings',\n",
    "                 'Rajasthan Royals','Delhi Daredevils','Gujarat Lions','Kings XI Punjab',\n",
    "                 'Sunrisers Hyderabad','Rising Pune Supergiants','Kochi Tuskers Kerala','Pune Warriors','Rising Pune Supergiant']\n",
    "                ,['MI','KKR','RCB','DC','CSK','RR','DD','GL','KXIP','SRH','RPS','KTK','PW','RPS'],inplace=True)"
   ]
  },
  {
   "cell_type": "code",
   "execution_count": 7,
   "metadata": {},
   "outputs": [
    {
     "data": {
      "text/html": [
       "<div>\n",
       "<style scoped>\n",
       "    .dataframe tbody tr th:only-of-type {\n",
       "        vertical-align: middle;\n",
       "    }\n",
       "\n",
       "    .dataframe tbody tr th {\n",
       "        vertical-align: top;\n",
       "    }\n",
       "\n",
       "    .dataframe thead th {\n",
       "        text-align: right;\n",
       "    }\n",
       "</style>\n",
       "<table border=\"1\" class=\"dataframe\">\n",
       "  <thead>\n",
       "    <tr style=\"text-align: right;\">\n",
       "      <th></th>\n",
       "      <th>city</th>\n",
       "      <th>team 1</th>\n",
       "      <th>team 2</th>\n",
       "      <th>team_1_batting_average</th>\n",
       "      <th>team_1_bowling_average</th>\n",
       "      <th>team_2_batting_average</th>\n",
       "      <th>team_2_bowling_average</th>\n",
       "      <th>toss_decision</th>\n",
       "      <th>toss_winner</th>\n",
       "      <th>venue</th>\n",
       "      <th>winner</th>\n",
       "    </tr>\n",
       "  </thead>\n",
       "  <tbody>\n",
       "    <tr>\n",
       "      <th>0</th>\n",
       "      <td>Bangalore</td>\n",
       "      <td>KKR</td>\n",
       "      <td>RCB</td>\n",
       "      <td>5.0</td>\n",
       "      <td>5.000000</td>\n",
       "      <td>3.0</td>\n",
       "      <td>12.0</td>\n",
       "      <td>field</td>\n",
       "      <td>RCB</td>\n",
       "      <td>M Chinnaswamy Stadium</td>\n",
       "      <td>KKR</td>\n",
       "    </tr>\n",
       "    <tr>\n",
       "      <th>1</th>\n",
       "      <td>Chandigarh</td>\n",
       "      <td>CSK</td>\n",
       "      <td>KXIP</td>\n",
       "      <td>5.0</td>\n",
       "      <td>54.000000</td>\n",
       "      <td>5.0</td>\n",
       "      <td>47.0</td>\n",
       "      <td>bat</td>\n",
       "      <td>CSK</td>\n",
       "      <td>Punjab Cricket Association Stadium, Mohali</td>\n",
       "      <td>CSK</td>\n",
       "    </tr>\n",
       "    <tr>\n",
       "      <th>2</th>\n",
       "      <td>Delhi</td>\n",
       "      <td>RR</td>\n",
       "      <td>DD</td>\n",
       "      <td>5.0</td>\n",
       "      <td>21.000000</td>\n",
       "      <td>5.0</td>\n",
       "      <td>5.0</td>\n",
       "      <td>bat</td>\n",
       "      <td>RR</td>\n",
       "      <td>Feroz Shah Kotla</td>\n",
       "      <td>DD</td>\n",
       "    </tr>\n",
       "    <tr>\n",
       "      <th>3</th>\n",
       "      <td>Mumbai</td>\n",
       "      <td>MI</td>\n",
       "      <td>RCB</td>\n",
       "      <td>28.0</td>\n",
       "      <td>14.750000</td>\n",
       "      <td>3.0</td>\n",
       "      <td>19.0</td>\n",
       "      <td>bat</td>\n",
       "      <td>MI</td>\n",
       "      <td>Wankhede Stadium</td>\n",
       "      <td>RCB</td>\n",
       "    </tr>\n",
       "    <tr>\n",
       "      <th>4</th>\n",
       "      <td>Kolkata</td>\n",
       "      <td>DC</td>\n",
       "      <td>KKR</td>\n",
       "      <td>5.0</td>\n",
       "      <td>5.666667</td>\n",
       "      <td>50.0</td>\n",
       "      <td>10.0</td>\n",
       "      <td>bat</td>\n",
       "      <td>DC</td>\n",
       "      <td>Eden Gardens</td>\n",
       "      <td>KKR</td>\n",
       "    </tr>\n",
       "  </tbody>\n",
       "</table>\n",
       "</div>"
      ],
      "text/plain": [
       "         city team 1 team 2  team_1_batting_average  team_1_bowling_average  \\\n",
       "0   Bangalore    KKR    RCB                     5.0                5.000000   \n",
       "1  Chandigarh    CSK   KXIP                     5.0               54.000000   \n",
       "2       Delhi     RR     DD                     5.0               21.000000   \n",
       "3      Mumbai     MI    RCB                    28.0               14.750000   \n",
       "4     Kolkata     DC    KKR                     5.0                5.666667   \n",
       "\n",
       "   team_2_batting_average  team_2_bowling_average toss_decision toss_winner  \\\n",
       "0                     3.0                    12.0         field         RCB   \n",
       "1                     5.0                    47.0           bat         CSK   \n",
       "2                     5.0                     5.0           bat          RR   \n",
       "3                     3.0                    19.0           bat          MI   \n",
       "4                    50.0                    10.0           bat          DC   \n",
       "\n",
       "                                        venue winner  \n",
       "0                       M Chinnaswamy Stadium    KKR  \n",
       "1  Punjab Cricket Association Stadium, Mohali    CSK  \n",
       "2                            Feroz Shah Kotla     DD  \n",
       "3                            Wankhede Stadium    RCB  \n",
       "4                                Eden Gardens    KKR  "
      ]
     },
     "execution_count": 7,
     "metadata": {},
     "output_type": "execute_result"
    }
   ],
   "source": [
    "dataset.head(5)"
   ]
  },
  {
   "cell_type": "code",
   "execution_count": 8,
   "metadata": {},
   "outputs": [],
   "source": [
    "def createDict(series) :\n",
    "    \n",
    "    dictionary={}\n",
    "    \n",
    "    i=0\n",
    "    \n",
    "    for ser in series :\n",
    "        if(ser in dictionary) :\n",
    "            continue\n",
    "        dictionary[ser]=i\n",
    "        i=i+1\n",
    "        \n",
    "    return dictionary"
   ]
  },
  {
   "cell_type": "code",
   "execution_count": 9,
   "metadata": {},
   "outputs": [],
   "source": [
    "teamDict=createDict(dataset['team 1'])\n",
    "\n",
    "cityDict=createDict(dataset['city'])\n",
    "\n",
    "venueDict=createDict(dataset['venue'])\n",
    "\n",
    "tossDecisionDict=createDict(dataset['toss_decision'])\n",
    "\n",
    "winnerDict=dict(teamDict)\n",
    "\n",
    "winnerDict['tie']=14\n",
    "\n",
    "winnerDict['no result']=15"
   ]
  },
  {
   "cell_type": "code",
   "execution_count": 10,
   "metadata": {},
   "outputs": [
    {
     "data": {
      "text/plain": [
       "{'M Chinnaswamy Stadium': 0,\n",
       " 'Punjab Cricket Association Stadium, Mohali': 1,\n",
       " 'Feroz Shah Kotla': 2,\n",
       " 'Wankhede Stadium': 3,\n",
       " 'Eden Gardens': 4,\n",
       " 'Sawai Mansingh Stadium': 5,\n",
       " 'Rajiv Gandhi International Stadium, Uppal': 6,\n",
       " 'MA Chidambaram Stadium, Chepauk': 7,\n",
       " 'Dr DY Patil Sports Academy': 8,\n",
       " 'Newlands': 9,\n",
       " \"St George's Park\": 10,\n",
       " 'Kingsmead': 11,\n",
       " 'SuperSport Park': 12,\n",
       " 'Buffalo Park': 13,\n",
       " 'New Wanderers Stadium': 14,\n",
       " 'De Beers Diamond Oval': 15,\n",
       " 'OUTsurance Oval': 16,\n",
       " 'Brabourne Stadium': 17,\n",
       " 'Sardar Patel Stadium, Motera': 18,\n",
       " 'Barabati Stadium': 19,\n",
       " 'Vidarbha Cricket Association Stadium, Jamtha': 20,\n",
       " 'Himachal Pradesh Cricket Association Stadium': 21,\n",
       " 'Nehru Stadium': 22,\n",
       " 'Holkar Cricket Stadium': 23,\n",
       " 'Dr. Y.S. Rajasekhara Reddy ACA-VDCA Cricket Stadium': 24,\n",
       " 'Subrata Roy Sahara Stadium': 25,\n",
       " 'Shaheed Veer Narayan Singh International Stadium': 26,\n",
       " 'JSCA International Stadium Complex': 27,\n",
       " 'Sheikh Zayed Stadium': 28,\n",
       " 'Sharjah Cricket Stadium': 29,\n",
       " 'Dubai International Cricket Stadium': 30,\n",
       " 'Maharashtra Cricket Association Stadium': 31,\n",
       " 'Punjab Cricket Association IS Bindra Stadium, Mohali': 32,\n",
       " 'Saurashtra Cricket Association Stadium': 33,\n",
       " 'Green Park': 34}"
      ]
     },
     "execution_count": 10,
     "metadata": {},
     "output_type": "execute_result"
    }
   ],
   "source": [
    "venueDict"
   ]
  },
  {
   "cell_type": "code",
   "execution_count": 11,
   "metadata": {},
   "outputs": [],
   "source": [
    "encode = {\n",
    "'team 1': teamDict,\n",
    "'team 2': teamDict,\n",
    "'toss_winner': teamDict,\n",
    "'winner': winnerDict,\n",
    "'city':cityDict,\n",
    "'venue':venueDict,\n",
    "'toss_decision': tossDecisionDict    \n",
    " }\n",
    "dataset.replace(encode, inplace=True)"
   ]
  },
  {
   "cell_type": "code",
   "execution_count": null,
   "metadata": {},
   "outputs": [],
   "source": []
  },
  {
   "cell_type": "code",
   "execution_count": 12,
   "metadata": {},
   "outputs": [],
   "source": [
    "def prediction(Model,X_train,y_train,X_test,y_test) :\n",
    "    \n",
    "    clf=Model()\n",
    "    \n",
    "    clf.fit(X_train,y_train)\n",
    "    \n",
    "    print(clf.score(X_test,y_test))\n",
    "    \n",
    "    return clf"
   ]
  },
  {
   "cell_type": "code",
   "execution_count": 13,
   "metadata": {},
   "outputs": [],
   "source": [
    "def predictWinner():    \n",
    "    \n",
    "    from sklearn.neural_network import MLPClassifier\n",
    "\n",
    "    from sklearn.svm import LinearSVC\n",
    "\n",
    "    from sklearn.linear_model import LogisticRegression\n",
    "\n",
    "    from sklearn.ensemble import RandomForestClassifier\n",
    "\n",
    "    clf_A = prediction(MLPClassifier,X_train,y_train,X_test,y_test)\n",
    "\n",
    "    clf_B = prediction(LinearSVC,X_train,y_train,X_test,y_test)\n",
    "\n",
    "    clf_C = prediction(LogisticRegression,X_train,y_train,X_test,y_test)\n",
    "\n",
    "    clf_D = prediction(RandomForestClassifier,X_train,y_train,X_test,y_test)\n",
    "    "
   ]
  },
  {
   "cell_type": "code",
   "execution_count": 14,
   "metadata": {},
   "outputs": [],
   "source": [
    "from sklearn.neural_network import MLPClassifier\n",
    "\n",
    "from sklearn.linear_model import LogisticRegression\n",
    "\n",
    "def buildModel(dataset,team1,team2) :\n",
    "\n",
    "    \n",
    "    dataset=dataset[\n",
    "        ((dataset['team 1']==team1)&(dataset['team 2']==team2) | \n",
    "         (dataset['team 1']==team2)&(dataset['team 2']==team1))\n",
    "    ]\n",
    "\n",
    "\n",
    "    winner = dataset['winner']\n",
    "\n",
    "    features = dataset.drop('winner',axis=1)\n",
    "\n",
    "    features = pd.get_dummies(features)\n",
    "\n",
    "    clf=LogisticRegression()\n",
    "\n",
    "    clf.fit(features,winner)\n",
    "\n",
    "    return clf"
   ]
  },
  {
   "cell_type": "code",
   "execution_count": 15,
   "metadata": {},
   "outputs": [],
   "source": [
    "def getPrediction(city,team1,team2,team1_batting_avg,team1_bowling_avg,team2_batting_avg,team2_bowling_avg,toss_decision,toss_winner,venue) :\n",
    "\n",
    "    predictionSet = pd.DataFrame({\n",
    "        'city':cityDict[city],\n",
    "        'team 1':teamDict[team1],\n",
    "        'team 2':teamDict[team2],\n",
    "        'team_1_batting_average':team1_batting_avg,\n",
    "        'team_1_bowling_average':team1_bowling_avg,\n",
    "        'team_2_batting_average':team2_batting_avg,\n",
    "        'team_2_bowling_average':team2_bowling_avg,\n",
    "        'toss_decision':[toss_decision],\n",
    "        'toss_winner':teamDict[toss_winner],\n",
    "        'venue':venueDict[venue]\n",
    "    })\n",
    "\n",
    "    predictionSet = pd.get_dummies(predictionSet)\n",
    "    \n",
    "    clf=buildModel(dataset,teamDict[team1],teamDict[team2])\n",
    "    \n",
    "    prediction=clf.predict(predictionSet)\n",
    "    \n",
    "    for key,value in teamDict.items() :\n",
    "        \n",
    "        if(value==prediction) :\n",
    "            \n",
    "            print(key)"
   ]
  },
  {
   "cell_type": "code",
   "execution_count": 16,
   "metadata": {},
   "outputs": [
    {
     "name": "stdout",
     "output_type": "stream",
     "text": [
      "KKR\n"
     ]
    },
    {
     "name": "stderr",
     "output_type": "stream",
     "text": [
      "C:\\anaconda3\\lib\\site-packages\\sklearn\\linear_model\\_logistic.py:764: ConvergenceWarning: lbfgs failed to converge (status=1):\n",
      "STOP: TOTAL NO. of ITERATIONS REACHED LIMIT.\n",
      "\n",
      "Increase the number of iterations (max_iter) or scale the data as shown in:\n",
      "    https://scikit-learn.org/stable/modules/preprocessing.html\n",
      "Please also refer to the documentation for alternative solver options:\n",
      "    https://scikit-learn.org/stable/modules/linear_model.html#logistic-regression\n",
      "  extra_warning_msg=_LOGISTIC_SOLVER_CONVERGENCE_MSG)\n"
     ]
    }
   ],
   "source": [
    "\n",
    "getPrediction('Bangalore','KKR','RCB',5.0,5.000000,3.0,12.0,'field','RCB','M Chinnaswamy Stadium')"
   ]
  },
  {
   "cell_type": "code",
   "execution_count": 17,
   "metadata": {},
   "outputs": [
    {
     "name": "stdout",
     "output_type": "stream",
     "text": [
      "CSK\n"
     ]
    },
    {
     "name": "stderr",
     "output_type": "stream",
     "text": [
      "C:\\anaconda3\\lib\\site-packages\\sklearn\\linear_model\\_logistic.py:764: ConvergenceWarning: lbfgs failed to converge (status=1):\n",
      "STOP: TOTAL NO. of ITERATIONS REACHED LIMIT.\n",
      "\n",
      "Increase the number of iterations (max_iter) or scale the data as shown in:\n",
      "    https://scikit-learn.org/stable/modules/preprocessing.html\n",
      "Please also refer to the documentation for alternative solver options:\n",
      "    https://scikit-learn.org/stable/modules/linear_model.html#logistic-regression\n",
      "  extra_warning_msg=_LOGISTIC_SOLVER_CONVERGENCE_MSG)\n"
     ]
    }
   ],
   "source": [
    "getPrediction('Chandigarh','KXIP','CSK',5.0,54.000000,5.0,47.0,'bat','CSK','Punjab Cricket Association Stadium, Mohali')"
   ]
  },
  {
   "cell_type": "code",
   "execution_count": 23,
   "metadata": {},
   "outputs": [
    {
     "name": "stdout",
     "output_type": "stream",
     "text": [
      "DD\n"
     ]
    }
   ],
   "source": [
    "getPrediction('Delhi','DD','RR',5.0,21.000000,5.0,5.0,'bat','RR','Feroz Shah Kotla')"
   ]
  },
  {
   "cell_type": "code",
   "execution_count": null,
   "metadata": {},
   "outputs": [],
   "source": []
  }
 ],
 "metadata": {
  "kernelspec": {
   "display_name": "Python 3",
   "language": "python",
   "name": "python3"
  },
  "language_info": {
   "codemirror_mode": {
    "name": "ipython",
    "version": 3
   },
   "file_extension": ".py",
   "mimetype": "text/x-python",
   "name": "python",
   "nbconvert_exporter": "python",
   "pygments_lexer": "ipython3",
   "version": "3.7.6"
  }
 },
 "nbformat": 4,
 "nbformat_minor": 2
}
